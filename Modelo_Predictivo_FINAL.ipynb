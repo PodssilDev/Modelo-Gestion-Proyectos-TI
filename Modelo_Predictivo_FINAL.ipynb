{
  "cells": [
    {
      "cell_type": "markdown",
      "metadata": {
        "id": "aee17be5"
      },
      "source": [
        "<h1>Modelo Predictivo de Consumo de Energía Electrica para el año 2024</h1>"
      ],
      "id": "aee17be5"
    },
    {
      "cell_type": "code",
      "execution_count": 1,
      "metadata": {
        "id": "14c25dd0"
      },
      "outputs": [],
      "source": [
        "import matplotlib.pyplot as plt\n",
        "import numpy as np\n",
        "import pandas as pd\n",
        "import tensorflow as tf\n",
        "from tensorflow import keras\n",
        "from sklearn.model_selection import train_test_split\n",
        "from sklearn.preprocessing import MinMaxScaler"
      ],
      "id": "14c25dd0"
    },
    {
      "cell_type": "markdown",
      "metadata": {
        "id": "05d8767f"
      },
      "source": [
        "<h3> Carga de datos </h3>\n",
        "Carga de datos desde un csv con la información y se extrae la información de interés. El nombre del csv es \"datos_consumo_energetico.csv\".\n"
      ],
      "id": "05d8767f"
    },
    {
      "cell_type": "code",
      "execution_count": 2,
      "metadata": {
        "id": "fb24fe5f"
      },
      "outputs": [],
      "source": [
        "data = pd.read_csv('datos_consumo_energetico.csv', sep=';')\n",
        "data = data[['Año', 'Mes', 'Temperatura media (°C)', 'Consumo GWh']]"
      ],
      "id": "fb24fe5f"
    },
    {
      "cell_type": "markdown",
      "metadata": {
        "id": "3c47614a"
      },
      "source": [
        "<h3>Normalización de los datos </h3>"
      ],
      "id": "3c47614a"
    },
    {
      "cell_type": "code",
      "execution_count": 3,
      "metadata": {
        "id": "694eca00"
      },
      "outputs": [],
      "source": [
        "scaler = MinMaxScaler()\n",
        "data_normalized = scaler.fit_transform(data)"
      ],
      "id": "694eca00"
    },
    {
      "cell_type": "markdown",
      "metadata": {
        "id": "40ecb4c5"
      },
      "source": [
        "<h3>Conjuntos de entrenamiento y prueba </h3>\n",
        "- Se define la longitud de las secuencias</br>\n",
        "- Se crean las secuencias de los datos</br>\n",
        "- Se divide la información entre la sección de training y del testeo"
      ],
      "id": "40ecb4c5"
    },
    {
      "cell_type": "code",
      "execution_count": 4,
      "metadata": {
        "id": "a938bc5a"
      },
      "outputs": [],
      "source": [
        "window_size = 12  # Por ejemplo, considera los últimos 12 meses\n",
        "\n",
        "# Crea secuencias de datos de entrenamiento con su correspondiente etiqueta (el siguiente mes)\n",
        "def create_sequences(data, window_size):\n",
        "    X = []\n",
        "    y = []\n",
        "    for i in range(len(data) - window_size):\n",
        "        X.append(data[i:i + window_size])\n",
        "        y.append(data[i + window_size][3])  # Consumo de energía en el siguiente mes\n",
        "    return np.array(X), np.array(y)\n",
        "\n",
        "# Crea las secuencias de entrenamiento y prueba\n",
        "X, y = create_sequences(data_normalized, window_size)\n",
        "\n",
        "# Divide los datos en conjuntos de entrenamiento y prueba\n",
        "X_train, X_test, y_train, y_test = train_test_split(X, y, test_size=0.2, random_state = 42)"
      ],
      "id": "a938bc5a"
    },
    {
      "cell_type": "markdown",
      "metadata": {
        "id": "4d704166"
      },
      "source": [
        "<h3> Construcción del modelo </h3>\n",
        "Se contruye el modelo RNN con dos capas LSTM, una de 128 nodos y otra de 64 nodos, y dos capas densas, una de 32 nodos y otra de 1 nodo como salida del modelo. Adicionalmente, se compila el modelo con un optimizador de aprendizaje Adam.\n",
        "\n",
        "Además, se agrega un early stopping cuando no hay mejoras en la validación."
      ],
      "id": "4d704166"
    },
    {
      "cell_type": "code",
      "source": [
        "model = keras.Sequential([\n",
        "    keras.layers.LSTM(128, activation='relu', return_sequences=True, input_shape=(window_size, 4)),\n",
        "    keras.layers.LSTM(64, activation='relu'),\n",
        "    keras.layers.Dense(32, activation='relu'),\n",
        "    keras.layers.Dense(1)\n",
        "])\n",
        "\n",
        "model.compile(loss='mean_squared_error', optimizer='adam')\n",
        "adam_optimizer = keras.optimizers.Adam(learning_rate=0.001)\n",
        "model.compile(loss='mean_squared_error', optimizer=adam_optimizer)\n",
        "early_stopping = keras.callbacks.EarlyStopping(monitor='val_loss', patience=10, restore_best_weights=True)"
      ],
      "metadata": {
        "id": "qDLqgLJfWMMH"
      },
      "id": "qDLqgLJfWMMH",
      "execution_count": 5,
      "outputs": []
    },
    {
      "cell_type": "markdown",
      "source": [
        "<h3>Entrenamiento y evaluación</h3>\n",
        "Se entrena el modelo y se realiza la evaluación mediante error cuadrático medio."
      ],
      "metadata": {
        "id": "FvlP43_bXiYQ"
      },
      "id": "FvlP43_bXiYQ"
    },
    {
      "cell_type": "code",
      "execution_count": 6,
      "metadata": {
        "id": "6a518e76",
        "colab": {
          "base_uri": "https://localhost:8080/"
        },
        "outputId": "2168c726-2e09-4413-a306-7dd828138e97"
      },
      "outputs": [
        {
          "output_type": "stream",
          "name": "stdout",
          "text": [
            "1/1 [==============================] - 0s 37ms/step - loss: 0.0120\n",
            "Loss (Error cuadrático medio) en datos de prueba: 0.01202012412250042\n"
          ]
        }
      ],
      "source": [
        "history = model.fit(X_train, y_train, epochs=75, batch_size=32, validation_split=0.2, verbose=False)\n",
        "loss = model.evaluate(X_test, y_test)\n",
        "print('Loss (Error cuadrático medio) en datos de prueba:', loss)"
      ],
      "id": "6a518e76"
    },
    {
      "cell_type": "markdown",
      "source": [
        "Se crea un gráfico que permite comparar las epocas de entrenamiento con el error cuadrático medio en los datos de prueba."
      ],
      "metadata": {
        "id": "KY1bN510cnNW"
      },
      "id": "KY1bN510cnNW"
    },
    {
      "cell_type": "code",
      "execution_count": 7,
      "metadata": {
        "id": "h0pg4brIKnGQ",
        "outputId": "66a3be51-cd40-4dee-b949-1bf56d3aa101",
        "colab": {
          "base_uri": "https://localhost:8080/",
          "height": 472
        }
      },
      "outputs": [
        {
          "output_type": "display_data",
          "data": {
            "text/plain": [
              "<Figure size 640x480 with 1 Axes>"
            ],
            "image/png": "[encoded data removed]"
          },
          "metadata": {}
        }
      ],
      "source": [
        "plt.plot(history.history['loss'])\n",
        "plt.plot(history.history['val_loss'])\n",
        "plt.title('model loss')\n",
        "plt.ylabel('loss')\n",
        "plt.xlabel('epoch')\n",
        "plt.legend(['train', 'test'], loc='upper left')\n",
        "plt.show()"
      ],
      "id": "h0pg4brIKnGQ"
    },
    {
      "cell_type": "markdown",
      "metadata": {
        "id": "4eaed06d"
      },
      "source": [
        "<h3> Predicciones del modelo </h3>\n",
        "\n",
        "Se utiliza una ventana de tamaño 12 y se comienza a realizar las predicciones para cada mes. Los resultados se guardan en una lista de nombre predicciones_2024"
      ],
      "id": "4eaed06d"
    },
    {
      "cell_type": "code",
      "execution_count": 8,
      "metadata": {
        "id": "31fff334",
        "colab": {
          "base_uri": "https://localhost:8080/"
        },
        "outputId": "828feca8-f945-4a07-dae0-30f064045e05"
      },
      "outputs": [
        {
          "output_type": "stream",
          "name": "stderr",
          "text": [
            "/usr/local/lib/python3.10/dist-packages/sklearn/base.py:439: UserWarning: X does not have valid feature names, but MinMaxScaler was fitted with feature names\n",
            "  warnings.warn(\n"
          ]
        },
        {
          "output_type": "stream",
          "name": "stdout",
          "text": [
            "1/1 [==============================] - 1s 594ms/step\n",
            "1/1 [==============================] - 0s 23ms/step\n",
            "1/1 [==============================] - 0s 33ms/step\n"
          ]
        },
        {
          "output_type": "stream",
          "name": "stderr",
          "text": [
            "/usr/local/lib/python3.10/dist-packages/sklearn/base.py:439: UserWarning: X does not have valid feature names, but MinMaxScaler was fitted with feature names\n",
            "  warnings.warn(\n",
            "/usr/local/lib/python3.10/dist-packages/sklearn/base.py:439: UserWarning: X does not have valid feature names, but MinMaxScaler was fitted with feature names\n",
            "  warnings.warn(\n",
            "/usr/local/lib/python3.10/dist-packages/sklearn/base.py:439: UserWarning: X does not have valid feature names, but MinMaxScaler was fitted with feature names\n",
            "  warnings.warn(\n"
          ]
        },
        {
          "output_type": "stream",
          "name": "stdout",
          "text": [
            "1/1 [==============================] - 0s 31ms/step\n",
            "1/1 [==============================] - 0s 31ms/step\n",
            "1/1 [==============================] - 0s 23ms/step\n"
          ]
        },
        {
          "output_type": "stream",
          "name": "stderr",
          "text": [
            "/usr/local/lib/python3.10/dist-packages/sklearn/base.py:439: UserWarning: X does not have valid feature names, but MinMaxScaler was fitted with feature names\n",
            "  warnings.warn(\n",
            "/usr/local/lib/python3.10/dist-packages/sklearn/base.py:439: UserWarning: X does not have valid feature names, but MinMaxScaler was fitted with feature names\n",
            "  warnings.warn(\n",
            "/usr/local/lib/python3.10/dist-packages/sklearn/base.py:439: UserWarning: X does not have valid feature names, but MinMaxScaler was fitted with feature names\n",
            "  warnings.warn(\n"
          ]
        },
        {
          "output_type": "stream",
          "name": "stdout",
          "text": [
            "1/1 [==============================] - 0s 39ms/step\n",
            "1/1 [==============================] - 0s 31ms/step\n",
            "1/1 [==============================] - 0s 26ms/step\n"
          ]
        },
        {
          "output_type": "stream",
          "name": "stderr",
          "text": [
            "/usr/local/lib/python3.10/dist-packages/sklearn/base.py:439: UserWarning: X does not have valid feature names, but MinMaxScaler was fitted with feature names\n",
            "  warnings.warn(\n",
            "/usr/local/lib/python3.10/dist-packages/sklearn/base.py:439: UserWarning: X does not have valid feature names, but MinMaxScaler was fitted with feature names\n",
            "  warnings.warn(\n",
            "/usr/local/lib/python3.10/dist-packages/sklearn/base.py:439: UserWarning: X does not have valid feature names, but MinMaxScaler was fitted with feature names\n",
            "  warnings.warn(\n"
          ]
        },
        {
          "output_type": "stream",
          "name": "stdout",
          "text": [
            "1/1 [==============================] - 0s 28ms/step\n",
            "1/1 [==============================] - 0s 27ms/step\n",
            "1/1 [==============================] - 0s 27ms/step\n"
          ]
        },
        {
          "output_type": "stream",
          "name": "stderr",
          "text": [
            "/usr/local/lib/python3.10/dist-packages/sklearn/base.py:439: UserWarning: X does not have valid feature names, but MinMaxScaler was fitted with feature names\n",
            "  warnings.warn(\n",
            "/usr/local/lib/python3.10/dist-packages/sklearn/base.py:439: UserWarning: X does not have valid feature names, but MinMaxScaler was fitted with feature names\n",
            "  warnings.warn(\n"
          ]
        }
      ],
      "source": [
        "# Realiza predicciones para el año 2024 utilizando los últimos datos históricos\n",
        "ultimo_anio_historico = data_normalized[-window_size:]  # Últimos 12 meses históricos\n",
        "predicciones_2024 = []\n",
        "\n",
        "for mes in range(1, 13):  # Predice para cada mes del año 2024\n",
        "    nuevo_dato = np.array([[2024, mes, ultimo_anio_historico[-1][2], 0]])\n",
        "    nuevo_dato = scaler.transform(nuevo_dato)\n",
        "\n",
        "    # Asegurarse de tener suficientes datos históricos para la predicción\n",
        "    datos_historicos = np.concatenate((ultimo_anio_historico, nuevo_dato), axis=0)\n",
        "    datos_historicos = datos_historicos[-window_size:]\n",
        "\n",
        "    # Hacer la predicción con la secuencia histórica actualizada\n",
        "    nuevo_dato = np.reshape(datos_historicos, (1, window_size, 4))\n",
        "    prediccion_mes = model.predict(nuevo_dato)\n",
        "    prediccion_mes = scaler.inverse_transform(np.array([[0, 0, 0, prediccion_mes[0][0]]]))\n",
        "\n",
        "    predicciones_2024.append(prediccion_mes[0][3])\n",
        "    ultimo_anio_historico = np.concatenate((ultimo_anio_historico, nuevo_dato[0]), axis=0)[1:]"
      ],
      "id": "31fff334"
    },
    {
      "cell_type": "markdown",
      "source": [
        "<h3>Resultados del modelo</h3>"
      ],
      "metadata": {
        "id": "agqQkTy3dBP5"
      },
      "id": "agqQkTy3dBP5"
    },
    {
      "cell_type": "code",
      "execution_count": 11,
      "metadata": {
        "id": "10de2eaf",
        "colab": {
          "base_uri": "https://localhost:8080/"
        },
        "outputId": "42055e11-18f0-4036-aec3-a5f4965655dc"
      },
      "outputs": [
        {
          "output_type": "stream",
          "name": "stdout",
          "text": [
            "Predicciones para los meses de 2024 (Consumo de energía): [365.9180123806, 313.3059338629246, 262.2717667222023, 231.85815271735194, 214.3171406388283, 206.4449334740639, 203.11280560493472, 206.2984082400799, 217.7777591645718, 235.4439631700516, 255.51657333970073, 261.6272474527359]\n",
            "Predicción final para el año 2024:  2973.8926967680454 GWh\n"
          ]
        }
      ],
      "source": [
        "print('Predicciones para los meses de 2024 (Consumo de energía):', predicciones_2024)\n",
        "resultado_final = 0\n",
        "for valor in predicciones_2024:\n",
        "  resultado_final = resultado_final + valor\n",
        "print('Predicción final para el año 2024: ', resultado_final, 'GWh')"
      ],
      "id": "10de2eaf"
    },
    {
      "cell_type": "code",
      "execution_count": 12,
      "metadata": {
        "colab": {
          "base_uri": "https://localhost:8080/"
        },
        "id": "1f5d0b2e",
        "outputId": "960ec387-f022-4495-a231-0c17a6a1cbf0"
      },
      "outputs": [
        {
          "output_type": "stream",
          "name": "stdout",
          "text": [
            "1/1 [==============================] - 0s 30ms/step\n",
            "Error cuadrático medio (MSE) en datos de prueba: 1763.219719777948\n",
            "Raíz de error cuadrático medio (RMSE) en datos de prueba: 41.99070992229053\n",
            "Error absoluto medio (MAE) en datos de prueba: 32.00678255409004\n",
            "Porcentaje de error obtenido (RMSPE):  12.698288975026252\n"
          ]
        }
      ],
      "source": [
        "# Realiza predicciones en los datos de prueba\n",
        "predicciones_test = model.predict(X_test)\n",
        "\n",
        "\n",
        "# Deshace la normalización para las predicciones y las etiquetas (valores reales)\n",
        "predicciones_test = scaler.inverse_transform(np.hstack((np.zeros((predicciones_test.shape[0], 3)), predicciones_test)))\n",
        "y_test_desnormalizado = scaler.inverse_transform(np.hstack((np.zeros((y_test.shape[0], 3)), y_test.reshape(-1, 1))))\n",
        "\n",
        "# Calcula el error cuadrático medio (MSE)\n",
        "mse = np.mean((y_test_desnormalizado[:, 3] - predicciones_test[:, 3]) ** 2)\n",
        "rmse = np.sqrt(mse)\n",
        "mae = np.mean(np.abs(y_test_desnormalizado[:, 3] - predicciones_test[:, 3]))\n",
        "rmspe = np.sqrt(np.mean(np.square(((y_test_desnormalizado[:, 3] - predicciones_test[:, 3]) / y_test_desnormalizado[:, 3])), axis=0))\n",
        "\n",
        "print(\"Error cuadrático medio (MSE) en datos de prueba:\", mse)\n",
        "print('Raíz de error cuadrático medio (RMSE) en datos de prueba:', rmse)\n",
        "print(\"Error absoluto medio (MAE) en datos de prueba:\", mae)\n",
        "\n",
        "# Porcentaje de error\n",
        "print(\"Porcentaje de error obtenido (RMSPE): \", rmspe * 100)"
      ],
      "id": "1f5d0b2e"
    },
    {
      "cell_type": "markdown",
      "source": [
        "<h3> Comparación con años anteriores </h3>"
      ],
      "metadata": {
        "id": "M4jJrf-7ogK4"
      },
      "id": "M4jJrf-7ogK4"
    },
    {
      "cell_type": "code",
      "source": [
        "# Datos\n",
        "x = [2010, 2011, 2019, 2020, 2024]\n",
        "y = [3782, 3605, 3993, 3328, 2973]\n",
        "\n",
        "# Crear el gráfico con estrellas para los puntos y línea entre los puntos\n",
        "puntos = plt.plot(x, y, marker='*', linestyle='-')\n",
        "\n",
        "# Etiquetas de los ejes\n",
        "plt.xlabel('Año')\n",
        "plt.ylabel('Consumo Energetico [GWh]')\n",
        "\n",
        "plt.setp(puntos, \"color\", \"r\")\n",
        "\n",
        "# Título del gráfico\n",
        "plt.title('Datos de ejemplo')\n",
        "\n",
        "plt.ylim(1000,4100)\n",
        "\n",
        "# Mostrar el gráfico\n",
        "plt.show()"
      ],
      "metadata": {
        "colab": {
          "base_uri": "https://localhost:8080/",
          "height": 472
        },
        "id": "VInPzVHRolnB",
        "outputId": "15a5a976-21d0-4842-97f8-677abee77152"
      },
      "id": "VInPzVHRolnB",
      "execution_count": 14,
      "outputs": [
        {
          "output_type": "display_data",
          "data": {
            "text/plain": [
              "<Figure size 640x480 with 1 Axes>"
            ],
            "image/png": "[encoded data removed]"
          },
          "metadata": {}
        }
      ]
    }
  ],
  "metadata": {
    "colab": {
      "provenance": []
    },
    "kernelspec": {
      "display_name": "Python 3 (ipykernel)",
      "language": "python",
      "name": "python3"
    },
    "language_info": {
      "codemirror_mode": {
        "name": "ipython",
        "version": 3
      },
      "file_extension": ".py",
      "mimetype": "text/x-python",
      "name": "python",
      "nbconvert_exporter": "python",
      "pygments_lexer": "ipython3",
      "version": "3.11.3"
    }
  },
  "nbformat": 4,
  "nbformat_minor": 5
}